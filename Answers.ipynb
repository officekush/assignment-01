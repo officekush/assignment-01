{
 "cells": [
  {
   "cell_type": "code",
   "execution_count": 1,
   "id": "9af4c21c-682f-44f9-afc6-c77831bd7219",
   "metadata": {},
   "outputs": [],
   "source": [
    "# Ans no 1"
   ]
  },
  {
   "cell_type": "code",
   "execution_count": 2,
   "id": "76c3eff7-459b-41f5-857a-33faec3de5e1",
   "metadata": {},
   "outputs": [],
   "source": [
    "a=[(1.5),'kush',]"
   ]
  },
  {
   "cell_type": "code",
   "execution_count": 13,
   "id": "3eba9e94-a6e3-4f10-9716-409e3283bb95",
   "metadata": {},
   "outputs": [],
   "source": [
    "# Ans no 2"
   ]
  },
  {
   "cell_type": "code",
   "execution_count": 14,
   "id": "a9a5b271-c651-47c0-855c-a851f703b66f",
   "metadata": {},
   "outputs": [],
   "source": [
    "# (i) var1 = ' ' = String"
   ]
  },
  {
   "cell_type": "code",
   "execution_count": 15,
   "id": "bf0a23c0-f7a0-4161-8fd5-017d2e69eff4",
   "metadata": {},
   "outputs": [],
   "source": [
    "#(ii) var2 = ‘[ DS , ML , Python]’ = String"
   ]
  },
  {
   "cell_type": "code",
   "execution_count": 16,
   "id": "acd5469b-6a9b-406a-94b1-4a6880ed1f61",
   "metadata": {},
   "outputs": [],
   "source": [
    "#(iii) var3 = [ ‘DS’ , ’ML’ , ‘Python’ ] = List\n"
   ]
  },
  {
   "cell_type": "code",
   "execution_count": 17,
   "id": "27c43dbd-14ba-4ac3-8242-8daaf1aea511",
   "metadata": {},
   "outputs": [],
   "source": [
    "#(iv) var4 = 1. = Float"
   ]
  },
  {
   "cell_type": "code",
   "execution_count": 18,
   "id": "7f2cb85e-360c-425e-997f-33cda9e75f54",
   "metadata": {},
   "outputs": [],
   "source": [
    "# Ans no 3"
   ]
  },
  {
   "cell_type": "code",
   "execution_count": 22,
   "id": "9d454f4f-d896-41e6-b1ab-abb397134932",
   "metadata": {},
   "outputs": [
    {
     "name": "stdout",
     "output_type": "stream",
     "text": [
      "7.5\n"
     ]
    }
   ],
   "source": [
    "# 1) / Division operator is used to perform division between two values. It resturns Quotient in the float value.\n",
    "# for ex- \n",
    "x=15\n",
    "y=2\n",
    "div=x/y\n",
    "print(div);"
   ]
  },
  {
   "cell_type": "code",
   "execution_count": 23,
   "id": "8e7e3932-d7a6-459e-af6b-18c1a7ada4ff",
   "metadata": {},
   "outputs": [
    {
     "name": "stdout",
     "output_type": "stream",
     "text": [
      "0\n"
     ]
    }
   ],
   "source": [
    "#2) % Modulo operator is used to find remainder when one no is devided by other it gives remainder.\n",
    "# for ex-\n",
    "x=9\n",
    "y=3\n",
    "mod=x%y\n",
    "print(mod);"
   ]
  },
  {
   "cell_type": "code",
   "execution_count": 24,
   "id": "be1470fc-433a-4fe3-b77e-fa64861dd1c9",
   "metadata": {},
   "outputs": [
    {
     "name": "stdout",
     "output_type": "stream",
     "text": [
      "11\n"
     ]
    }
   ],
   "source": [
    "#3 // The floor division operator // performs division between two numbers and returns the whole number quotient, discarding the fractional part. \n",
    "#The result is an integer value.\n",
    "#for ex-\n",
    "x=89\n",
    "y=8\n",
    "f=x//y\n",
    "print(f);"
   ]
  },
  {
   "cell_type": "code",
   "execution_count": 25,
   "id": "f4ddf573-dfa4-4050-a3d9-0edb3123e828",
   "metadata": {},
   "outputs": [
    {
     "name": "stdout",
     "output_type": "stream",
     "text": [
      "512\n"
     ]
    }
   ],
   "source": [
    "#4 ** The exponentiation operator ** is used to raise a number to a power.\n",
    "# It calculates the result of the base number raised to the exponent.\n",
    "#for ex-\n",
    "u=8\n",
    "i=3\n",
    "ex=8**3\n",
    "print(ex);"
   ]
  },
  {
   "cell_type": "code",
   "execution_count": 26,
   "id": "8d2d9264-dace-4a16-93e4-6a98e8935e9f",
   "metadata": {},
   "outputs": [],
   "source": [
    "# Ans no 4"
   ]
  },
  {
   "cell_type": "code",
   "execution_count": 27,
   "id": "e9f0caee-5e9d-4965-a1c9-122ac1c455e2",
   "metadata": {},
   "outputs": [
    {
     "name": "stdout",
     "output_type": "stream",
     "text": [
      "<class 'str'>\n",
      "kush\n",
      "<class 'float'>\n",
      "8.9\n",
      "<class 'int'>\n",
      "2\n",
      "<class 'str'>\n",
      "ram\n",
      "<class 'str'>\n",
      "s\n",
      "<class 'int'>\n",
      "3\n",
      "<class 'int'>\n",
      "56\n",
      "<class 'int'>\n",
      "32\n",
      "<class 'float'>\n",
      "6.7\n",
      "<class 'int'>\n",
      "7\n"
     ]
    }
   ],
   "source": [
    "a=['kush',8.9,2,'ram','s',3,56,32,6.7,7]\n",
    "for i in a:\n",
    "    print(type(i))\n",
    "    print(i)"
   ]
  },
  {
   "cell_type": "code",
   "execution_count": 28,
   "id": "b47dbd65-efe0-4d80-aacb-4e0ad4685d38",
   "metadata": {},
   "outputs": [],
   "source": [
    "# Ans no 5"
   ]
  },
  {
   "cell_type": "code",
   "execution_count": 1,
   "id": "bbfa69ca-4096-4c17-95e0-322d90e39b3e",
   "metadata": {},
   "outputs": [
    {
     "name": "stdout",
     "output_type": "stream",
     "text": [
      "1\n",
      "6\n"
     ]
    }
   ],
   "source": [
    "a=64\n",
    "b=2\n",
    "count=0\n",
    "while a % b==0:\n",
    "    a=a//b\n",
    "    count +=1\n",
    "print(a)\n",
    "print(count)"
   ]
  },
  {
   "cell_type": "code",
   "execution_count": 2,
   "id": "0f72522f-96e5-42d0-9d4b-4d1f24c2e3fe",
   "metadata": {},
   "outputs": [
    {
     "name": "stdout",
     "output_type": "stream",
     "text": [
      "23  is not devisible by 3\n",
      "3  is devisible by 3\n",
      "87  is devisible by 3\n",
      "56  is not devisible by 3\n",
      "98  is not devisible by 3\n",
      "34  is not devisible by 3\n",
      "90  is devisible by 3\n",
      "7  is not devisible by 3\n",
      "8  is not devisible by 3\n",
      "9  is devisible by 3\n",
      "6  is devisible by 3\n",
      "5  is not devisible by 3\n",
      "54  is devisible by 3\n",
      "12  is devisible by 3\n",
      "21  is devisible by 3\n",
      "43  is not devisible by 3\n",
      "49  is not devisible by 3\n",
      "61  is not devisible by 3\n",
      "31  is not devisible by 3\n",
      "78  is devisible by 3\n",
      "8  is not devisible by 3\n",
      "65  is not devisible by 3\n",
      "54  is devisible by 3\n",
      "62  is not devisible by 3\n",
      "32  is not devisible by 3\n"
     ]
    }
   ],
   "source": [
    "# Ans no 6\n",
    "d=[23,3,87,56,98,34,90,7,8,9,6,5,54,12,21,43,49,61,31,78,8,65,54,62,32]\n",
    "for i in d:\n",
    "    if i%3==0 :\n",
    "         print(i, \" is devisible by 3\")\n",
    "    else :\n",
    "        print(i,\" is not devisible by 3\")"
   ]
  },
  {
   "cell_type": "code",
   "execution_count": 3,
   "id": "e300db45-b541-4895-a860-678336e4e71e",
   "metadata": {},
   "outputs": [],
   "source": [
    "# Ans no 7\n",
    "#Mutable data types:\n",
    "#Mutable data types are those whose values can be modified after they are created.\n",
    "#Changes made to a mutable object affect the object directly without creating a new object."
   ]
  },
  {
   "cell_type": "code",
   "execution_count": 8,
   "id": "1c2709bd-716e-410b-b7a9-11eaa0aa2d3b",
   "metadata": {},
   "outputs": [],
   "source": [
    "k=['kush',80,7.5]"
   ]
  },
  {
   "cell_type": "code",
   "execution_count": 9,
   "id": "45d06633-0b99-4f84-94d1-19f44a448384",
   "metadata": {},
   "outputs": [
    {
     "data": {
      "text/plain": [
       "80"
      ]
     },
     "execution_count": 9,
     "metadata": {},
     "output_type": "execute_result"
    }
   ],
   "source": [
    "k[1]"
   ]
  },
  {
   "cell_type": "code",
   "execution_count": 10,
   "id": "0ea8b30c-c6e2-40c5-9dfe-2fce27b2705d",
   "metadata": {},
   "outputs": [],
   "source": [
    "k[1]=32"
   ]
  },
  {
   "cell_type": "code",
   "execution_count": 11,
   "id": "e2c3a8cb-6ea8-48a7-b9cb-35437b3f8215",
   "metadata": {},
   "outputs": [
    {
     "data": {
      "text/plain": [
       "['kush', 32, 7.5]"
      ]
     },
     "execution_count": 11,
     "metadata": {},
     "output_type": "execute_result"
    }
   ],
   "source": [
    "k"
   ]
  },
  {
   "cell_type": "code",
   "execution_count": 12,
   "id": "91d018e6-55be-4b05-afc5-ab31c95a19a5",
   "metadata": {},
   "outputs": [],
   "source": [
    "#so you can see in this example value of k can be modified "
   ]
  },
  {
   "cell_type": "code",
   "execution_count": 13,
   "id": "022ae00f-d885-46f8-92fc-d6d3884a0fcd",
   "metadata": {},
   "outputs": [],
   "source": [
    "#Immutable data types:\n",
    "#Immutable data types are those whose values cannot be modified once they are created.\n",
    "#Any operation that appears to modify an immutable object actually creates a new object with the modified value."
   ]
  },
  {
   "cell_type": "code",
   "execution_count": 14,
   "id": "c476340d-5e4d-4c56-8f13-3e70c0bcf39c",
   "metadata": {},
   "outputs": [],
   "source": [
    "s='shyam'"
   ]
  },
  {
   "cell_type": "code",
   "execution_count": 15,
   "id": "7ca25699-eebf-47ac-8840-d8b8f12e78e7",
   "metadata": {},
   "outputs": [
    {
     "data": {
      "text/plain": [
       "'h'"
      ]
     },
     "execution_count": 15,
     "metadata": {},
     "output_type": "execute_result"
    }
   ],
   "source": [
    "s[1]"
   ]
  },
  {
   "cell_type": "code",
   "execution_count": 16,
   "id": "4ecd8283-3bec-404a-a553-f9a6ed321987",
   "metadata": {},
   "outputs": [
    {
     "ename": "TypeError",
     "evalue": "'str' object does not support item assignment",
     "output_type": "error",
     "traceback": [
      "\u001b[0;31m---------------------------------------------------------------------------\u001b[0m",
      "\u001b[0;31mTypeError\u001b[0m                                 Traceback (most recent call last)",
      "Cell \u001b[0;32mIn[16], line 1\u001b[0m\n\u001b[0;32m----> 1\u001b[0m \u001b[43ms\u001b[49m\u001b[43m[\u001b[49m\u001b[38;5;241;43m1\u001b[39;49m\u001b[43m]\u001b[49m\u001b[38;5;241m=\u001b[39ma\n",
      "\u001b[0;31mTypeError\u001b[0m: 'str' object does not support item assignment"
     ]
    }
   ],
   "source": [
    "s[1]=a"
   ]
  },
  {
   "cell_type": "code",
   "execution_count": 17,
   "id": "ceaf2d53-d79f-46e6-ac14-18f851200bed",
   "metadata": {},
   "outputs": [],
   "source": [
    "# in this example you can see that we can not modify s as it is imutable "
   ]
  },
  {
   "cell_type": "code",
   "execution_count": null,
   "id": "765f775c-5671-4d1e-9378-b15337adc6c0",
   "metadata": {},
   "outputs": [],
   "source": []
  }
 ],
 "metadata": {
  "kernelspec": {
   "display_name": "Python 3 (ipykernel)",
   "language": "python",
   "name": "python3"
  },
  "language_info": {
   "codemirror_mode": {
    "name": "ipython",
    "version": 3
   },
   "file_extension": ".py",
   "mimetype": "text/x-python",
   "name": "python",
   "nbconvert_exporter": "python",
   "pygments_lexer": "ipython3",
   "version": "3.10.8"
  }
 },
 "nbformat": 4,
 "nbformat_minor": 5
}
